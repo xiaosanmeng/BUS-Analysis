{
 "cells": [
  {
   "cell_type": "markdown",
   "metadata": {},
   "source": [
    "### 定义神经网络的框架"
   ]
  },
  {
   "cell_type": "code",
   "execution_count": 17,
   "metadata": {},
   "outputs": [],
   "source": [
    "# neural network definition\n",
    "class NeuralNetwork:\n",
    "\n",
    "    # initialise the neural network\n",
    "    def __init__(self):\n",
    "        pass\n",
    "\n",
    "    # train the network using training data set\n",
    "    def training(self):\n",
    "        pass\n",
    "\n",
    "    # query the network using test data set\n",
    "    def query(self):\n",
    "        pass\n",
    "\n"
   ]
  },
  {
   "cell_type": "markdown",
   "metadata": {},
   "source": [
    "### 编写初始化函数指定神经网络的结构"
   ]
  },
  {
   "cell_type": "code",
   "execution_count": 18,
   "metadata": {},
   "outputs": [],
   "source": [
    "def __init__(self, numInputNodes, numHiddenNodes, numOutputNodes, learningRate):\n",
    "    # 单隐藏层示例，设置各层的节点个数\n",
    "    self.numInputNodes = numInputNodes\n",
    "    self.numHiddenNodes = numHiddenNodes\n",
    "    self.numOutputNodes = numOutputNodes\n",
    "        \n",
    "    # 权重更新时的学习率\n",
    "    self.learningRate = learningRate\n",
    "    pass\n"
   ]
  },
  {
   "cell_type": "markdown",
   "metadata": {},
   "source": [
    "### 创建网络节点和连接"
   ]
  },
  {
   "cell_type": "markdown",
   "metadata": {},
   "source": [
    "#### 简单均匀分布随机初始权重"
   ]
  },
  {
   "cell_type": "code",
   "execution_count": 11,
   "metadata": {},
   "outputs": [],
   "source": [
    "import numpy as np"
   ]
  },
  {
   "cell_type": "code",
   "execution_count": 15,
   "metadata": {},
   "outputs": [
    {
     "ename": "NameError",
     "evalue": "name 'self' is not defined",
     "output_type": "error",
     "traceback": [
      "\u001b[0;31m---------------------------------------------------------------------------\u001b[0m",
      "\u001b[0;31mNameError\u001b[0m                                 Traceback (most recent call last)",
      "\u001b[0;32m<ipython-input-15-fb0fafd4fac3>\u001b[0m in \u001b[0;36m<module>\u001b[0;34m\u001b[0m\n\u001b[1;32m      1\u001b[0m \u001b[0;31m# 初始化权重: 加上偏移-0.5是为了使权重分布在（-0.5,0.5）\u001b[0m\u001b[0;34m\u001b[0m\u001b[0;34m\u001b[0m\u001b[0;34m\u001b[0m\u001b[0m\n\u001b[0;32m----> 2\u001b[0;31m \u001b[0mself\u001b[0m\u001b[0;34m.\u001b[0m\u001b[0mweightInputHidden\u001b[0m \u001b[0;34m=\u001b[0m \u001b[0;34m(\u001b[0m\u001b[0mnumpy\u001b[0m\u001b[0;34m.\u001b[0m\u001b[0mrandom\u001b[0m\u001b[0;34m.\u001b[0m\u001b[0mrand\u001b[0m\u001b[0;34m(\u001b[0m\u001b[0mself\u001b[0m\u001b[0;34m.\u001b[0m\u001b[0mnumHiddenNodes\u001b[0m\u001b[0;34m,\u001b[0m \u001b[0mself\u001b[0m\u001b[0;34m.\u001b[0m\u001b[0mnumInputNodes\u001b[0m\u001b[0;34m)\u001b[0m \u001b[0;34m-\u001b[0m \u001b[0;36m0.5\u001b[0m\u001b[0;34m)\u001b[0m\u001b[0;34m\u001b[0m\u001b[0;34m\u001b[0m\u001b[0m\n\u001b[0m\u001b[1;32m      3\u001b[0m \u001b[0mself\u001b[0m\u001b[0;34m.\u001b[0m\u001b[0mweightHiddenOutput\u001b[0m \u001b[0;34m=\u001b[0m \u001b[0;34m(\u001b[0m\u001b[0mnumpy\u001b[0m\u001b[0;34m.\u001b[0m\u001b[0mrandom\u001b[0m\u001b[0;34m.\u001b[0m\u001b[0mrand\u001b[0m\u001b[0;34m(\u001b[0m\u001b[0mself\u001b[0m\u001b[0;34m.\u001b[0m\u001b[0mnumOutputNodes\u001b[0m\u001b[0;34m,\u001b[0m \u001b[0mself\u001b[0m\u001b[0;34m.\u001b[0m\u001b[0mnumHiddenNodes\u001b[0m\u001b[0;34m)\u001b[0m \u001b[0;34m-\u001b[0m \u001b[0;36m0.5\u001b[0m\u001b[0;34m)\u001b[0m\u001b[0;34m\u001b[0m\u001b[0;34m\u001b[0m\u001b[0m\n",
      "\u001b[0;31mNameError\u001b[0m: name 'self' is not defined"
     ]
    }
   ],
   "source": [
    "# 初始化权重: 加上偏移-0.5是为了使权重分布在（-0.5,0.5）\n",
    "self.weightInputHidden = (numpy.random.rand(self.numHiddenNodes, self.numInputNodes) - 0.5)\n",
    "self.weightHiddenOutput = (numpy.random.rand(self.numOutputNodes, self.numHiddenNodes) - 0.5)"
   ]
  },
  {
   "cell_type": "markdown",
   "metadata": {},
   "source": [
    "#### 正态分布初始权重"
   ]
  },
  {
   "cell_type": "code",
   "execution_count": 19,
   "metadata": {},
   "outputs": [
    {
     "ename": "NameError",
     "evalue": "name 'self' is not defined",
     "output_type": "error",
     "traceback": [
      "\u001b[0;31m---------------------------------------------------------------------------\u001b[0m",
      "\u001b[0;31mNameError\u001b[0m                                 Traceback (most recent call last)",
      "\u001b[0;32m<ipython-input-19-33813a106333>\u001b[0m in \u001b[0;36m<module>\u001b[0;34m\u001b[0m\n\u001b[0;32m----> 1\u001b[0;31m self.weightInputHidden = numpy.random.normal(0.0, pow(self.numHiddenNodes, -0.5),\n\u001b[0m\u001b[1;32m      2\u001b[0m                                                      (self.numHiddenNodes, self.numInputNodes))\n\u001b[1;32m      3\u001b[0m self.weightHiddenOutput = numpy.random.normal(0.0, pow(self.numOutputNodes, -0.5),\n\u001b[1;32m      4\u001b[0m                                                       (self.numOutputNodes, self.numHiddenNodes))\n",
      "\u001b[0;31mNameError\u001b[0m: name 'self' is not defined"
     ]
    }
   ],
   "source": [
    "self.weightInputHidden = numpy.random.normal(0.0, pow(self.numHiddenNodes, -0.5),\n",
    "                                                     (self.numHiddenNodes, self.numInputNodes))\n",
    "self.weightHiddenOutput = numpy.random.normal(0.0, pow(self.numOutputNodes, -0.5),\n",
    "                                                      (self.numOutputNodes, self.numHiddenNodes))\n"
   ]
  },
  {
   "cell_type": "markdown",
   "metadata": {},
   "source": [
    "### 编写查询函数"
   ]
  },
  {
   "cell_type": "code",
   "execution_count": 20,
   "metadata": {},
   "outputs": [
    {
     "ename": "NameError",
     "evalue": "name 'self' is not defined",
     "output_type": "error",
     "traceback": [
      "\u001b[0;31m---------------------------------------------------------------------------\u001b[0m",
      "\u001b[0;31mNameError\u001b[0m                                 Traceback (most recent call last)",
      "\u001b[0;32m<ipython-input-20-d44dffbd95cd>\u001b[0m in \u001b[0;36m<module>\u001b[0;34m\u001b[0m\n\u001b[1;32m      1\u001b[0m \u001b[0;31m# 激活函数(lambda创建匿名函数)\u001b[0m\u001b[0;34m\u001b[0m\u001b[0;34m\u001b[0m\u001b[0;34m\u001b[0m\u001b[0m\n\u001b[0;32m----> 2\u001b[0;31m \u001b[0mself\u001b[0m\u001b[0;34m.\u001b[0m\u001b[0mactivation_function\u001b[0m \u001b[0;34m=\u001b[0m \u001b[0;32mlambda\u001b[0m \u001b[0mx\u001b[0m\u001b[0;34m:\u001b[0m \u001b[0mscipy\u001b[0m\u001b[0;34m.\u001b[0m\u001b[0mspecial\u001b[0m\u001b[0;34m.\u001b[0m\u001b[0mexpit\u001b[0m\u001b[0;34m(\u001b[0m\u001b[0mx\u001b[0m\u001b[0;34m)\u001b[0m\u001b[0;34m\u001b[0m\u001b[0;34m\u001b[0m\u001b[0m\n\u001b[0m",
      "\u001b[0;31mNameError\u001b[0m: name 'self' is not defined"
     ]
    }
   ],
   "source": [
    "# 激活函数(lambda创建匿名函数)\n",
    "self.activation_function = lambda x: scipy.special.expit(x)\n"
   ]
  },
  {
   "cell_type": "markdown",
   "metadata": {},
   "source": [
    "### 所有代码"
   ]
  },
  {
   "cell_type": "code",
   "execution_count": 21,
   "metadata": {},
   "outputs": [],
   "source": [
    "import numpy\n",
    "import scipy.special\n",
    "\n",
    "\n",
    "# neural network definition\n",
    "class NeuralNetwork:\n",
    "\n",
    "    # initialise the neural network\n",
    "    def __init__(self, numInputNodes, numHiddenNodes, numOutputNodes, learningRate):\n",
    "        # 单隐藏层示例，设置各层的节点个数\n",
    "        self.numInputNodes = numInputNodes\n",
    "        self.numHiddenNodes = numHiddenNodes\n",
    "        self.numOutputNodes = numOutputNodes\n",
    "\n",
    "        # 权重更新时的学习率\n",
    "        self.learningRate = learningRate\n",
    "\n",
    "        # 正态分布初始化权重\n",
    "        self.weightInputHidden = numpy.random.normal(0.0, pow(self.numHiddenNodes, -0.5),\n",
    "                                                     (self.numHiddenNodes, self.numInputNodes))\n",
    "        self.weightHiddenOutput = numpy.random.normal(0.0, pow(self.numOutputNodes, -0.5),\n",
    "                                                      (self.numOutputNodes, self.numHiddenNodes))\n",
    "\n",
    "        # 激活函数(lambda创建匿名函数)\n",
    "        self.activation_function = lambda x: scipy.special.expit(x)\n",
    "        pass\n",
    "\n",
    "    # train the network using training data set\n",
    "    def training(self):\n",
    "        pass\n",
    "\n",
    "    # query the network using test data set\n",
    "    def query(self, inputs_list):\n",
    "        # 将输入一维数组转化成二维，并转置\n",
    "        inputs = numpy.array(inputs_list, ndmin=2).T\n",
    "        \n",
    "        # 计算到达隐藏层的信号，即隐藏层输入\n",
    "        hidden_inputs = numpy.dot(self.weightInputHidden, inputs)\n",
    "        # 计算隐藏层输出，即经过sigmoid函数的输出\n",
    "        hidden_outputs = self.activation_function(hidden_inputs)\n",
    "        \n",
    "        # 计算到达输出层的信号，即输出层的输入\n",
    "        final_inputs = numpy.dot(self.weightHiddenOutput, hidden_outputs)\n",
    "        # 计算最终的输出\n",
    "        final_outputs = self.activation_function(final_inputs)\n",
    "\n",
    "        return final_outputs\n",
    "\n"
   ]
  },
  {
   "cell_type": "markdown",
   "metadata": {},
   "source": [
    "### 阶段测试上述代码"
   ]
  },
  {
   "cell_type": "code",
   "execution_count": 22,
   "metadata": {},
   "outputs": [
    {
     "ename": "ModuleNotFoundError",
     "evalue": "No module named 'neural_network'",
     "output_type": "error",
     "traceback": [
      "\u001b[0;31m---------------------------------------------------------------------------\u001b[0m",
      "\u001b[0;31mModuleNotFoundError\u001b[0m                       Traceback (most recent call last)",
      "\u001b[0;32m<ipython-input-22-4cc49ef46db6>\u001b[0m in \u001b[0;36m<module>\u001b[0;34m\u001b[0m\n\u001b[0;32m----> 1\u001b[0;31m \u001b[0;32mimport\u001b[0m \u001b[0mneural_network\u001b[0m\u001b[0;34m\u001b[0m\u001b[0;34m\u001b[0m\u001b[0m\n\u001b[0m\u001b[1;32m      2\u001b[0m \u001b[0;34m\u001b[0m\u001b[0m\n\u001b[1;32m      3\u001b[0m \u001b[0minput_nodes\u001b[0m \u001b[0;34m=\u001b[0m \u001b[0;36m3\u001b[0m\u001b[0;34m\u001b[0m\u001b[0;34m\u001b[0m\u001b[0m\n\u001b[1;32m      4\u001b[0m \u001b[0mhidden_nodes\u001b[0m \u001b[0;34m=\u001b[0m \u001b[0;36m3\u001b[0m\u001b[0;34m\u001b[0m\u001b[0;34m\u001b[0m\u001b[0m\n\u001b[1;32m      5\u001b[0m \u001b[0moutput_nodes\u001b[0m \u001b[0;34m=\u001b[0m \u001b[0;36m3\u001b[0m\u001b[0;34m\u001b[0m\u001b[0;34m\u001b[0m\u001b[0m\n",
      "\u001b[0;31mModuleNotFoundError\u001b[0m: No module named 'neural_network'"
     ]
    }
   ],
   "source": [
    "import neural_network\n",
    "\n",
    "input_nodes = 3\n",
    "hidden_nodes = 3\n",
    "output_nodes = 3\n",
    "\n",
    "learning_rate = 0.3\n",
    "\n",
    "n = neural_network.NeuralNetwork(input_nodes, hidden_nodes, output_nodes, learning_rate)\n",
    "\n",
    "print(n.query([1.0, 0.5, -1.5]))\n",
    "\n"
   ]
  },
  {
   "cell_type": "markdown",
   "metadata": {},
   "source": [
    "### 编写训练函数"
   ]
  },
  {
   "cell_type": "code",
   "execution_count": null,
   "metadata": {},
   "outputs": [],
   "source": [
    "# 第一，同query()函数\n",
    "inputs = numpy.array(inputs_list, ndmin=2).T\n",
    "targets = numpy.array(targets_list, ndmin=2).T\n",
    "hidden_inputs = numpy.dot(self.weightInputHidden, inputs)\n",
    "hidden_outputs = self.activation_function(hidden_inputs)\n",
    "final_inputs = numpy.dot(self.weightHiddenOutput, hidden_outputs)\n",
    "final_outputs = self.activation_function(final_inputs)\n"
   ]
  },
  {
   "cell_type": "markdown",
   "metadata": {},
   "source": [
    "#### 误差反向传播并且更新权重"
   ]
  },
  {
   "cell_type": "code",
   "execution_count": null,
   "metadata": {},
   "outputs": [],
   "source": [
    "# 计算误差\n",
    "output_errors = targets - final_outputs\n",
    "\n",
    "# 反向传播误差到隐藏层\n",
    "hidden_errors = numpy.dot(self.weightHiddenOutput.T, output_errors)\n"
   ]
  },
  {
   "cell_type": "markdown",
   "metadata": {},
   "source": [
    "#### 使用梯度下降方法更新权重"
   ]
  },
  {
   "cell_type": "code",
   "execution_count": null,
   "metadata": {},
   "outputs": [],
   "source": [
    "# 更新隐藏层和输出层之间的权重\n",
    "self.weightHiddenOutput += self.learningRate * numpy.dot((output_errors * final_outputs *\n",
    "                                                                  (1.0 - final_outputs)),\n",
    "                                                                 numpy.transpose(hidden_outputs))\n",
    "# 更新输入层和隐藏层之间的权重\n",
    "self.weightInputHidden += self.learningRate * numpy.dot((hidden_errors * hidden_outputs *\n",
    "                                                                 (1.0 - hidden_outputs)),\n",
    "                                                                numpy.transpose(inputs))\n"
   ]
  },
  {
   "cell_type": "markdown",
   "metadata": {},
   "source": [
    "### 神经网络的所有代码"
   ]
  },
  {
   "cell_type": "code",
   "execution_count": null,
   "metadata": {},
   "outputs": [],
   "source": [
    "import numpy\n",
    "import scipy.special\n",
    "\n",
    "\n",
    "# neural network definition\n",
    "class NeuralNetwork:\n",
    "\n",
    "    # initialise the neural network\n",
    "    def __init__(self, numInputNodes, numHiddenNodes, numOutputNodes, learningRate):\n",
    "        # 单隐藏层示例，设置各层的节点个数\n",
    "        self.numInputNodes = numInputNodes\n",
    "        self.numHiddenNodes = numHiddenNodes\n",
    "        self.numOutputNodes = numOutputNodes\n",
    "\n",
    "        # 权重更新时的学习率\n",
    "        self.learningRate = learningRate\n",
    "\n",
    "        # 正态分布初始化权重\n",
    "        self.weightInputHidden = numpy.random.normal(0.0, pow(self.numHiddenNodes, -0.5),\n",
    "                                                     (self.numHiddenNodes, self.numInputNodes))\n",
    "        self.weightHiddenOutput = numpy.random.normal(0.0, pow(self.numOutputNodes, -0.5),\n",
    "                                                      (self.numOutputNodes, self.numHiddenNodes))\n",
    "\n",
    "        # 激活函数(lambda创建匿名函数)\n",
    "        self.activation_function = lambda x: scipy.special.expit(x)\n",
    "        \n",
    "        pass\n",
    "\n",
    "    # train the network using training data set\n",
    "    def training(self, inputs_list, targets_list):\n",
    "        # 第一，同query()函数\n",
    "        inputs = numpy.array(inputs_list, ndmin=2).T\n",
    "        targets = numpy.array(targets_list, ndmin=2).T\n",
    "        hidden_inputs = numpy.dot(self.weightInputHidden, inputs)\n",
    "        hidden_outputs = self.activation_function(hidden_inputs)\n",
    "        final_inputs = numpy.dot(self.weightHiddenOutput, hidden_outputs)\n",
    "        final_outputs = self.activation_function(final_inputs)\n",
    "\n",
    "        # 计算误差\n",
    "        output_errors = targets - final_outputs\n",
    "        # 反向传播误差到隐藏层\n",
    "        hidden_errors = numpy.dot(self.weightHiddenOutput.T, output_errors)\n",
    "\n",
    "        # 更新隐藏层和输出层之间的权重\n",
    "        self.weightHiddenOutput += self.learningRate * numpy.dot((output_errors * final_outputs *\n",
    "                                                                  (1.0 - final_outputs)),\n",
    "                                                                 numpy.transpose(hidden_outputs))\n",
    "        # 更新输入层和隐藏层之间的权重\n",
    "        self.weightInputHidden += self.learningRate * numpy.dot((hidden_errors * hidden_outputs *\n",
    "                                                                 (1.0 - hidden_outputs)),\n",
    "                                                                numpy.transpose(inputs))\n",
    "\n",
    "        pass\n",
    "\n",
    "    # query the network using test data set\n",
    "    def query(self, inputs_list):\n",
    "        # 将输入一维数组转化成二维，并转置\n",
    "        inputs = numpy.array(inputs_list, ndmin=2).T\n",
    "\n",
    "        # 计算到达隐藏层的信号，即隐藏层输入\n",
    "        hidden_inputs = numpy.dot(self.weightInputHidden, inputs)\n",
    "        # 计算隐藏层输出，即经过sigmoid函数的输出\n",
    "        hidden_outputs = self.activation_function(hidden_inputs)\n",
    "\n",
    "        # 计算到达输出层的信号，即输出层的输入\n",
    "        final_inputs = numpy.dot(self.weightHiddenOutput, hidden_outputs)\n",
    "        # 计算最终的输出\n",
    "        final_outputs = self.activation_function(final_inputs)\n",
    "\n",
    "        return final_outputs\n",
    "\n"
   ]
  },
  {
   "cell_type": "code",
   "execution_count": null,
   "metadata": {},
   "outputs": [],
   "source": []
  },
  {
   "cell_type": "code",
   "execution_count": null,
   "metadata": {},
   "outputs": [],
   "source": []
  }
 ],
 "metadata": {
  "kernelspec": {
   "display_name": "Python 3",
   "language": "python",
   "name": "python3"
  },
  "language_info": {
   "codemirror_mode": {
    "name": "ipython",
    "version": 3
   },
   "file_extension": ".py",
   "mimetype": "text/x-python",
   "name": "python",
   "nbconvert_exporter": "python",
   "pygments_lexer": "ipython3",
   "version": "3.7.6"
  }
 },
 "nbformat": 4,
 "nbformat_minor": 4
}
